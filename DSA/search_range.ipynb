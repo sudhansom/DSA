{
 "cells": [
  {
   "cell_type": "code",
   "execution_count": 1,
   "id": "cosmetic-victoria",
   "metadata": {},
   "outputs": [
    {
     "data": {
      "text/plain": [
       "[4, 9]"
      ]
     },
     "execution_count": 1,
     "metadata": {},
     "output_type": "execute_result"
    }
   ],
   "source": [
    "def searchForRange(array, target):\n",
    "    my_dict = {}\n",
    "    a = 0\n",
    "    found = False\n",
    "    for i, item in enumerate(array):\n",
    "        if item == target:\n",
    "            if not found:\n",
    "                a = i\n",
    "                found = True\n",
    "        if found and item != target:\n",
    "            i -= 1\n",
    "            break\n",
    "    if not found:\n",
    "        a = -1\n",
    "        i = -1\n",
    "    return [a, i]\n",
    "\n",
    "array = [0, 1, 21, 33, 45, 45, 45, 45, 45, 45, 61, 71, 73]\n",
    "target = 45\n",
    "\n",
    "searchForRange(array, target)"
   ]
  },
  {
   "cell_type": "code",
   "execution_count": 21,
   "id": "modern-charter",
   "metadata": {},
   "outputs": [
    {
     "name": "stdout",
     "output_type": "stream",
     "text": [
      "i m here\n"
     ]
    },
    {
     "data": {
      "text/plain": [
       "[7, 6]"
      ]
     },
     "execution_count": 21,
     "metadata": {},
     "output_type": "execute_result"
    }
   ],
   "source": [
    "def searchForRange(array, target, l, u, res=[None, None]):\n",
    "    if l >= u:\n",
    "        return res\n",
    "    m = (l + u)//2\n",
    "   \n",
    "    if array[m] == target:\n",
    "        \n",
    "        if (m - 1) and array[m - 1] == target:\n",
    "            print('i m here')\n",
    "            u = m - 1\n",
    "            searchForRange(array, target, l, u, res)\n",
    "        if (m - 1) and array[m - 1] != target:\n",
    "            res[0] = m\n",
    "        if m < len(array) and array[m + 1] == target:\n",
    "                l = m + 1\n",
    "                searchForRange(array, target, l, u, res)\n",
    "        if m < len(array) and array[m + 1] != target:\n",
    "            res[1] = m + 1\n",
    "            print('i m here', res)\n",
    "        else:\n",
    "            res = [l, m]\n",
    "            return res\n",
    "    elif array[m] < target:\n",
    "        l = m + 1\n",
    "        searchForRange(array, target, l, u, res)\n",
    "    elif array[m] > target:\n",
    "        u = m - 1\n",
    "        searchForRange(array, target, l, u, res)\n",
    "                \n",
    "                \n",
    "    return res\n",
    "\n",
    "array = [0, 1, 21, 33, 45, 45, 45, 45, 45, 45, 61, 71, 73]\n",
    "target = 45\n",
    "l = 0\n",
    "u = len(array)\n",
    "searchForRange(array, target, l, u, res=[None, None])"
   ]
  },
  {
   "cell_type": "code",
   "execution_count": 46,
   "id": "desirable-insured",
   "metadata": {},
   "outputs": [
    {
     "name": "stdout",
     "output_type": "stream",
     "text": [
      "0 8 [1, 2, 3, 4, 5, 6, 7, 8, 9]\n",
      "5 8 [1, 2, 3, 4, 5, 6, 7, 8, 9]\n",
      "7 8 [1, 2, 3, 4, 5, 6, 7, 8, 9]\n",
      "8 8 [1, 2, 3, 4, 5, 6, 7, 8, 9]\n",
      "8\n"
     ]
    }
   ],
   "source": [
    "def binary_search(array, target, l, u):\n",
    "    print(l, u, array)\n",
    "    m = (l + u)//2\n",
    "    if l > u:\n",
    "        return -1\n",
    "    if target == array[m]:\n",
    "        return m\n",
    "   \n",
    "    if target > array[m]:\n",
    "        l = m + 1\n",
    "        \n",
    "    elif target < array[m]:\n",
    "        u = m - 1\n",
    "    return binary_search(array, target, l, u)\n",
    "\n",
    "arr = [ 1, 2, 3, 4, 5, 6, 7, 8, 9]\n",
    "target =  9\n",
    "print(binary_search(arr, target, 0, len(arr)-1))"
   ]
  },
  {
   "cell_type": "code",
   "execution_count": null,
   "id": "unauthorized-wildlife",
   "metadata": {},
   "outputs": [],
   "source": []
  },
  {
   "cell_type": "code",
   "execution_count": null,
   "id": "terminal-romance",
   "metadata": {},
   "outputs": [],
   "source": []
  },
  {
   "cell_type": "code",
   "execution_count": null,
   "id": "breathing-module",
   "metadata": {},
   "outputs": [],
   "source": []
  }
 ],
 "metadata": {
  "kernelspec": {
   "display_name": "Python 3",
   "language": "python",
   "name": "python3"
  },
  "language_info": {
   "codemirror_mode": {
    "name": "ipython",
    "version": 3
   },
   "file_extension": ".py",
   "mimetype": "text/x-python",
   "name": "python",
   "nbconvert_exporter": "python",
   "pygments_lexer": "ipython3",
   "version": "3.8.1"
  }
 },
 "nbformat": 4,
 "nbformat_minor": 5
}
