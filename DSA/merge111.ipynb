{
 "cells": [
  {
   "cell_type": "code",
   "execution_count": 6,
   "id": "later-imperial",
   "metadata": {},
   "outputs": [
    {
     "name": "stdout",
     "output_type": "stream",
     "text": [
      "[0, 2, 4, 4, 4, 7, 8, 11, 17, 19]\n"
     ]
    }
   ],
   "source": [
    "def merge_sort(arr):\n",
    "    if len(arr)<2:\n",
    "        return arr\n",
    "    mid = len(arr) // 2;\n",
    "    left_arr = merge_sort(arr[:mid])\n",
    "    right_arr = merge_sort(arr[mid:])\n",
    "    return merge_helper(left_arr, right_arr)\n",
    "\n",
    "def merge_helper(left, right):\n",
    "    arr = []\n",
    "    while len(left) and len(right):\n",
    "        if left[0] < right[0]:\n",
    "            arr.append(left[0])\n",
    "            left = left[1:]\n",
    "        else:\n",
    "            arr.append(right[0])\n",
    "            right = right[1:]\n",
    "    arr.extend(left)\n",
    "    arr.extend(right)\n",
    "    return arr\n",
    "\n",
    "arr = [4, 17, 19, 0, 7, 8, 11, 2, 4, 4]\n",
    "print(merge_sort(arr))"
   ]
  },
  {
   "cell_type": "code",
   "execution_count": 29,
   "id": "elect-cheat",
   "metadata": {},
   "outputs": [
    {
     "name": "stdout",
     "output_type": "stream",
     "text": [
      "6\n"
     ]
    }
   ],
   "source": [
    "def binary_search(arr, l, h, val):\n",
    "    mid = (l + h) // 2\n",
    "    if l > h:\n",
    "        return -1\n",
    "    \n",
    "    if val < arr[mid]:\n",
    "        h = mid - 1\n",
    "        \n",
    "    elif val > arr[mid]:\n",
    "        l = mid + 1\n",
    "        \n",
    "    elif val == arr[mid]:\n",
    "        return mid\n",
    "        \n",
    "    return binary_search(arr, l, h, val)\n",
    "        \n",
    "arr = [0, 2, 7, 8, 11, 17, 19]\n",
    "print(binary_search(arr, 0, len(arr) - 1, 19))"
   ]
  },
  {
   "cell_type": "code",
   "execution_count": 30,
   "id": "varied-blowing",
   "metadata": {},
   "outputs": [
    {
     "name": "stdout",
     "output_type": "stream",
     "text": [
      "[0, 1, 2, 3, 9, 11, 19]\n"
     ]
    }
   ],
   "source": [
    "def quick_sort(arr):\n",
    "    if len(arr)<=1:\n",
    "        return arr\n",
    "    pivot = arr[0]\n",
    "    left = []\n",
    "    middle = []\n",
    "    right = []\n",
    "    for item in arr:\n",
    "        if item < pivot:\n",
    "            left.append(item)\n",
    "        elif item > pivot:\n",
    "            right.append(item)\n",
    "        else:\n",
    "            middle.append(item)\n",
    "    return quick_sort(left) + middle + quick_sort(right)\n",
    "\n",
    "arr = [19, 1, 0, 9, 3, 2, 11]\n",
    "print(quick_sort(arr))"
   ]
  },
  {
   "cell_type": "code",
   "execution_count": 14,
   "id": "hazardous-television",
   "metadata": {},
   "outputs": [
    {
     "name": "stdout",
     "output_type": "stream",
     "text": [
      "[0, 1, 2, 3, 4, 7, 9]\n"
     ]
    }
   ],
   "source": [
    "def merge_sort(array):\n",
    "    if len(array) == 1:\n",
    "        return array\n",
    "    mid =len(array) // 2\n",
    "    left = merge_sort(array[:mid])\n",
    "    right = merge_sort(array[mid:])\n",
    "    return merge(left, right)\n",
    "\n",
    "def merge(left, right):\n",
    "    array = []\n",
    "    while len(left) and len(right):\n",
    "        if left[0] < right[0]:\n",
    "            array.append(left[0])\n",
    "            left = left[1:]\n",
    "        else:\n",
    "            array.append(right[0])\n",
    "            right = right[1:]\n",
    "    array.extend(left)\n",
    "    array.extend(right)\n",
    "    return array\n",
    "\n",
    "array = [2, 3, 4, 9, 7, 1, 0]\n",
    "print(merge_sort(array))"
   ]
  },
  {
   "cell_type": "code",
   "execution_count": null,
   "id": "acknowledged-velvet",
   "metadata": {},
   "outputs": [],
   "source": []
  }
 ],
 "metadata": {
  "kernelspec": {
   "display_name": "Python 3",
   "language": "python",
   "name": "python3"
  },
  "language_info": {
   "codemirror_mode": {
    "name": "ipython",
    "version": 3
   },
   "file_extension": ".py",
   "mimetype": "text/x-python",
   "name": "python",
   "nbconvert_exporter": "python",
   "pygments_lexer": "ipython3",
   "version": "3.8.1"
  }
 },
 "nbformat": 4,
 "nbformat_minor": 5
}
