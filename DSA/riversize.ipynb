{
 "cells": [
  {
   "cell_type": "code",
   "execution_count": 1,
   "id": "ready-franchise",
   "metadata": {},
   "outputs": [
    {
     "name": "stdout",
     "output_type": "stream",
     "text": [
      "[1, 1, 5]\n"
     ]
    }
   ],
   "source": [
    "def riverSize(matrix):\n",
    "    sizes = []\n",
    "    visited = [[False for _ in row] for row in matrix]\n",
    "    for i in range(len(matrix)):\n",
    "        for j in range(len(matrix[i])):\n",
    "            if visited[i][j]:\n",
    "                continue\n",
    "            explore(i, j, visited, matrix, sizes)\n",
    "    return sizes\n",
    "\n",
    "def explore(i, j, visited, matrix, sizes):\n",
    "    currentSize = 0\n",
    "    nodes_to_explore = [[i,j]]\n",
    "    while len(nodes_to_explore):\n",
    "        i,j = nodes_to_explore.pop()\n",
    "        if visited[i][j]:\n",
    "            continue\n",
    "        visited[i][j] = True\n",
    "        if  not matrix[i][j]:\n",
    "            continue\n",
    "        currentSize += 1\n",
    "        unvisited_neighbours = find_neighbours(i,j, visited, matrix)\n",
    "        for nodes in unvisited_neighbours:\n",
    "            nodes_to_explore.append(nodes)\n",
    "    if currentSize:\n",
    "        sizes.append(currentSize)\n",
    "        \n",
    "def find_neighbours(i, j, visited, matrix):\n",
    "    unvisited_neighbours = []\n",
    "    if i > 0 and not visited[i-1][j]:\n",
    "        unvisited_neighbours.append([i-1, j])\n",
    "    if i < len(matrix) - 1 and not visited[i + 1][j]:\n",
    "        unvisited_neighbours.append([i + 1, j])\n",
    "    if j > 0 and not visited[i][j - 1]:\n",
    "        unvisited_neighbours.append([i, j - 1])\n",
    "    if j < len(matrix[0]) - 1 and not visited[i][j + 1]:\n",
    "        unvisited_neighbours.append([i, j + 1])\n",
    "        \n",
    "    return unvisited_neighbours\n",
    "\n",
    "matrix = [[1, 0, 0, 1],\n",
    "          [0, 0, 0, 0],\n",
    "          [1, 1, 1, 1],\n",
    "          [0, 0, 0, 1]]\n",
    "\n",
    "print(riverSize(matrix))\n",
    "        \n",
    "        "
   ]
  },
  {
   "cell_type": "code",
   "execution_count": 10,
   "id": "temporal-volleyball",
   "metadata": {},
   "outputs": [
    {
     "name": "stdout",
     "output_type": "stream",
     "text": [
      "[0, 1, 2, 33, 55, 66, 99]\n"
     ]
    }
   ],
   "source": [
    "def divide_arr(arr):\n",
    "    if len(arr) < 2:\n",
    "        return arr\n",
    "    mid = len(arr)//2\n",
    "    left = divide_arr(arr[:mid])\n",
    "    right = divide_arr(arr[mid:])\n",
    "    return merge(left, right)\n",
    "\n",
    "def merge(left, right):\n",
    "    new_arr = []\n",
    "    while len(left) and len(right):\n",
    "        if left[0] < right[0]:\n",
    "            new_arr.append(left[0])\n",
    "            left = left[1:]\n",
    "        else:\n",
    "            new_arr.append(right[0])\n",
    "            right = right[1:]\n",
    "    new_arr.extend(left)\n",
    "    new_arr.extend(right)\n",
    "    return new_arr\n",
    "\n",
    "arr = [55, 66, 33, 99, 1, 2, 0]\n",
    "print(divide_arr(arr))"
   ]
  },
  {
   "cell_type": "code",
   "execution_count": 35,
   "id": "forward-connectivity",
   "metadata": {},
   "outputs": [
    {
     "name": "stdout",
     "output_type": "stream",
     "text": [
      "84\n"
     ]
    }
   ],
   "source": [
    "def sum_array(arr, multiplier = 1):\n",
    "    sum_ = 0\n",
    "    for value in arr:\n",
    "        if type(value) is list:\n",
    "            sum_ += sum_array(value, multiplier + 1)\n",
    "        else:\n",
    "            sum_ += value \n",
    "    return sum_ * multiplier\n",
    "\n",
    "arr = [ 1, 2, [3, 4, [5, 6]], 1]\n",
    "print(sum_array(arr))"
   ]
  },
  {
   "cell_type": "code",
   "execution_count": 42,
   "id": "fresh-discovery",
   "metadata": {},
   "outputs": [
    {
     "name": "stdout",
     "output_type": "stream",
     "text": [
      "(True, 6, 4)\n"
     ]
    }
   ],
   "source": [
    "def find_number(arr, target):\n",
    "    new_arr = []\n",
    "    for j, i in enumerate(arr):\n",
    "        if i in new_arr:\n",
    "            return True, j, new_arr.index(i)\n",
    "        else:\n",
    "            new_arr.append(target - i)\n",
    "    return False\n",
    "\n",
    "arr = [3, 5, -4, 8, 11, 1, -1, 6]\n",
    "print(find_number(arr, 10))\n",
    "    "
   ]
  },
  {
   "cell_type": "code",
   "execution_count": 52,
   "id": "stuck-evolution",
   "metadata": {},
   "outputs": [
    {
     "name": "stdout",
     "output_type": "stream",
     "text": [
      "34\n"
     ]
    }
   ],
   "source": [
    "fibo = { 0:0, 1:1}\n",
    "def nth_fibonacci(n):\n",
    "    if n in fibo:\n",
    "        return fibo[n]\n",
    "    else:\n",
    "        fibo[n] = nth_fibonacci(n-1) + nth_fibonacci(n - 2)\n",
    "    return fibo[n]\n",
    "\n",
    "print(nth_fibonacci(9))"
   ]
  },
  {
   "cell_type": "code",
   "execution_count": 55,
   "id": "automotive-space",
   "metadata": {},
   "outputs": [
    {
     "name": "stdout",
     "output_type": "stream",
     "text": [
      "[7, 9, 100]\n"
     ]
    }
   ],
   "source": [
    "def threeLargest(arr):\n",
    "    new_arr = arr[:3]\n",
    "    result = find_three(new_arr, arr[3:])\n",
    "    return result\n",
    "\n",
    "def find_three(new_arr, arr):\n",
    "    for i in arr:\n",
    "        if i > min(new_arr):\n",
    "            new_arr.append(i)\n",
    "            new_arr.remove(min(new_arr))\n",
    "    return new_arr\n",
    "\n",
    "arr = [ 0, 1, 2, 3, 4, 5, 6, 7, 9, 100]\n",
    "print(threeLargest(arr))"
   ]
  },
  {
   "cell_type": "code",
   "execution_count": 62,
   "id": "appreciated-reasoning",
   "metadata": {},
   "outputs": [
    {
     "name": "stdout",
     "output_type": "stream",
     "text": [
      "120\n"
     ]
    }
   ],
   "source": [
    "fact = {0:1, 1:1}\n",
    "def factorial(n):\n",
    "    if n in fact:\n",
    "        return fact[n]\n",
    "    else:\n",
    "        fact[n] = n * factorial(n-1)\n",
    "    return fact[n]\n",
    "\n",
    "print(factorial(5))"
   ]
  },
  {
   "cell_type": "code",
   "execution_count": 63,
   "id": "sorted-control",
   "metadata": {},
   "outputs": [
    {
     "name": "stdout",
     "output_type": "stream",
     "text": [
      "120\n"
     ]
    }
   ],
   "source": [
    "def factorial(n):\n",
    "    fact = 1\n",
    "    for i in range(n):\n",
    "        fact = fact * (i+1)\n",
    "    return fact\n",
    "\n",
    "print(factorial(5))"
   ]
  },
  {
   "cell_type": "code",
   "execution_count": null,
   "id": "cathedral-admission",
   "metadata": {},
   "outputs": [],
   "source": []
  }
 ],
 "metadata": {
  "kernelspec": {
   "display_name": "Python 3",
   "language": "python",
   "name": "python3"
  },
  "language_info": {
   "codemirror_mode": {
    "name": "ipython",
    "version": 3
   },
   "file_extension": ".py",
   "mimetype": "text/x-python",
   "name": "python",
   "nbconvert_exporter": "python",
   "pygments_lexer": "ipython3",
   "version": "3.8.1"
  }
 },
 "nbformat": 4,
 "nbformat_minor": 5
}
