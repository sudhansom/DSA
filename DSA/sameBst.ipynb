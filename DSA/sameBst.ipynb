{
 "cells": [
  {
   "cell_type": "code",
   "execution_count": 1,
   "metadata": {},
   "outputs": [
    {
     "name": "stdout",
     "output_type": "stream",
     "text": [
      "False\n"
     ]
    }
   ],
   "source": [
    "def sameBst(array1, array2):\n",
    "    if len(array1) != len(array2):\n",
    "        return False\n",
    "    if len(array1) == 0 and len(array2) == 0:\n",
    "        return True\n",
    "    if array1[0] != array2[0]:\n",
    "        return False\n",
    "    leftOne = smallArray(array1)\n",
    "    leftTwo = smallArray(array2)\n",
    "    rightOne = biggerOrEqual(array1)\n",
    "    rightTwo = biggerOrEqual(array2)\n",
    "    return sameBst(leftOne, leftTwo) and sameBst(rightOne, rightTwo)\n",
    "\n",
    "def smallArray(array):\n",
    "    new_array = []\n",
    "    for item in array[1:]:\n",
    "        if item < array[0]:\n",
    "            new_array.append(item)\n",
    "            \n",
    "    return new_array\n",
    "\n",
    "def biggerOrEqual(array):\n",
    "    new_array = []\n",
    "    for item in array[1:]:\n",
    "        if item >= array[0]:\n",
    "            new_array.append(item)\n",
    "            \n",
    "    return new_array\n",
    "\n",
    "array1 = [10, 15, 8, 94, 5, 81, 2, 12, 11]\n",
    "array2 = [10, 15, 94, 81, 12, 11, 5, 5, 2]\n",
    "\n",
    "print(sameBst(array1, array2))"
   ]
  },
  {
   "cell_type": "code",
   "execution_count": null,
   "metadata": {},
   "outputs": [],
   "source": []
  }
 ],
 "metadata": {
  "kernelspec": {
   "display_name": "Python 3",
   "language": "python",
   "name": "python3"
  },
  "language_info": {
   "codemirror_mode": {
    "name": "ipython",
    "version": 3
   },
   "file_extension": ".py",
   "mimetype": "text/x-python",
   "name": "python",
   "nbconvert_exporter": "python",
   "pygments_lexer": "ipython3",
   "version": "3.8.1"
  }
 },
 "nbformat": 4,
 "nbformat_minor": 4
}
