{
 "cells": [
  {
   "cell_type": "code",
   "execution_count": 15,
   "id": "serious-marking",
   "metadata": {},
   "outputs": [
    {
     "name": "stdout",
     "output_type": "stream",
     "text": [
      "0---->1---->2---->3---->4---->5---->6---->None\n",
      "6---->5---->4---->3---->2---->1---->0---->None\n",
      "0---->1---->2---->3---->4---->5---->6---->None\n"
     ]
    }
   ],
   "source": [
    "class Node:\n",
    "    def __init__(self, data, next=None):\n",
    "        self.data = data\n",
    "        self.next = next\n",
    "        \n",
    "class Linked_list:\n",
    "    def __init__(self):\n",
    "        self.head = None\n",
    "        self.length = 0\n",
    "        \n",
    "    def append(self, data):\n",
    "        self.length += 1\n",
    "        if self.head is None:\n",
    "            self.head = Node(data)\n",
    "            return\n",
    "        itr = self.head\n",
    "        while itr.next:\n",
    "            itr = itr.next\n",
    "        itr.next = Node(data)\n",
    "        \n",
    "    def display(self):\n",
    "        if self.head is None:\n",
    "            return\n",
    "        itr = self.head\n",
    "        while itr:\n",
    "            print(itr.data, end=\"---->\")\n",
    "            itr = itr.next\n",
    "        print(None)\n",
    "        \n",
    "    def reverse(self):\n",
    "        if self.head is None:\n",
    "            print(\"Empty list....\")\n",
    "            return\n",
    "        itr = self.head\n",
    "        temp = None\n",
    "        while itr:\n",
    "            temp_next = itr.next\n",
    "            itr.next = temp\n",
    "            temp = itr\n",
    "            itr = temp_next\n",
    "        self.head = temp\n",
    "            \n",
    "            \n",
    "        \n",
    "ll = Linked_list()\n",
    "ll.append(0)\n",
    "ll.append(1)\n",
    "ll.append(2)\n",
    "ll.append(3)\n",
    "ll.append(4)\n",
    "ll.append(5)\n",
    "ll.append(6)\n",
    "ll.display()\n",
    "ll.reverse()\n",
    "ll.display()\n",
    "ll.reverse()\n",
    "ll.display()\n",
    "\n"
   ]
  },
  {
   "cell_type": "code",
   "execution_count": null,
   "id": "forced-croatia",
   "metadata": {},
   "outputs": [],
   "source": []
  },
  {
   "cell_type": "code",
   "execution_count": null,
   "id": "competitive-painting",
   "metadata": {},
   "outputs": [],
   "source": []
  }
 ],
 "metadata": {
  "kernelspec": {
   "display_name": "Python 3",
   "language": "python",
   "name": "python3"
  },
  "language_info": {
   "codemirror_mode": {
    "name": "ipython",
    "version": 3
   },
   "file_extension": ".py",
   "mimetype": "text/x-python",
   "name": "python",
   "nbconvert_exporter": "python",
   "pygments_lexer": "ipython3",
   "version": "3.8.1"
  }
 },
 "nbformat": 4,
 "nbformat_minor": 5
}
