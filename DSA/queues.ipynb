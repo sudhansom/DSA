{
 "cells": [
  {
   "cell_type": "code",
   "execution_count": null,
   "metadata": {},
   "outputs": [],
   "source": [
    "class Node:\n",
    "    def __init__(self, data, next=None):\n",
    "        self.data = data\n",
    "        self.next = next\n",
    "        \n",
    "class Queue:\n",
    "    def __init__(self):\n",
    "        self.head = None\n",
    "        \n",
    "    def queue(self, data):\n",
    "        if self.head is None:\n",
    "            self.head = Node(data, None)\n",
    "            return\n",
    "        itr = self.head\n",
    "        while itr.next:\n",
    "            itr = itr.next\n",
    "        itr.next = Node(data, itr)\n",
    "        \n",
    "    \n",
    "    def __str__(self):\n",
    "        if self.head is None:\n",
    "            print('no data...')\n",
    "            return\n",
    "        itr = self.head\n",
    "        while itr.next:\n",
    "            print(itr.data)\n",
    "            itr = itr.next\n",
    "        return ''\n",
    "            \n",
    "que = Queue()\n",
    "que.queue(1)\n",
    "que.queue(2)\n",
    "que.queue(3)\n",
    "que.queue(4)\n",
    "que.queue(5)\n",
    "print(que)"
   ]
  },
  {
   "cell_type": "code",
   "execution_count": null,
   "metadata": {},
   "outputs": [],
   "source": []
  }
 ],
 "metadata": {
  "kernelspec": {
   "display_name": "Python 3",
   "language": "python",
   "name": "python3"
  },
  "language_info": {
   "codemirror_mode": {
    "name": "ipython",
    "version": 3
   },
   "file_extension": ".py",
   "mimetype": "text/x-python",
   "name": "python",
   "nbconvert_exporter": "python",
   "pygments_lexer": "ipython3",
   "version": "3.8.1"
  }
 },
 "nbformat": 4,
 "nbformat_minor": 4
}
