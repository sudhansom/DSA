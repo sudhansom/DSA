{
 "cells": [
  {
   "cell_type": "code",
   "execution_count": 1,
   "metadata": {},
   "outputs": [],
   "source": [
    "def recursive_sum(list1):\n",
    "    if len(list1) == 0:\n",
    "        return 0\n",
    "    return list1[0] + recursive_sum(list1[1:])\n",
    "\n",
    "# lst = np.random.randint(1, 10, 100)"
   ]
  },
  {
   "cell_type": "code",
   "execution_count": 2,
   "metadata": {},
   "outputs": [
    {
     "name": "stdout",
     "output_type": "stream",
     "text": [
      "21\n"
     ]
    }
   ],
   "source": [
    "list1 = [1, 2, 3, 4, 5, 6]\n",
    "result = recursive_sum(list1)\n",
    "print(result)"
   ]
  },
  {
   "cell_type": "code",
   "execution_count": 6,
   "metadata": {},
   "outputs": [
    {
     "name": "stdout",
     "output_type": "stream",
     "text": [
      "144\n",
      "dict_values([1, 1, 2, 3, 5, 8, 13, 21, 34, 55, 89, 144])\n"
     ]
    }
   ],
   "source": [
    "fib = {0: 0, 1: 1}\n",
    "\n",
    "\n",
    "def fibonacci(n):\n",
    "    if n in fib:\n",
    "        return fib[n]\n",
    "    else:\n",
    "        fib[n] = fibonacci(n - 1) + fibonacci(n - 2)\n",
    "        return fib[n]\n",
    "\n",
    "\n",
    "print(fibonacci(11))\n",
    "print(fib.values())"
   ]
  },
  {
   "cell_type": "code",
   "execution_count": 4,
   "metadata": {},
   "outputs": [
    {
     "name": "stdout",
     "output_type": "stream",
     "text": [
      "89\n"
     ]
    }
   ],
   "source": [
    "def fibonacci1(n):\n",
    "    if n in [1,0]:\n",
    "        return 1\n",
    "    fib = fibonacci1(n-1) + fibonacci1(n-2)\n",
    "    return fib\n",
    "print(fibonacci1(10))\n"
   ]
  },
  {
   "cell_type": "code",
   "execution_count": null,
   "metadata": {},
   "outputs": [],
   "source": [
    "%%timeit\n",
    "fibonacci1(100)"
   ]
  },
  {
   "cell_type": "code",
   "execution_count": null,
   "metadata": {},
   "outputs": [],
   "source": []
  }
 ],
 "metadata": {
  "kernelspec": {
   "display_name": "Python 3",
   "language": "python",
   "name": "python3"
  },
  "language_info": {
   "codemirror_mode": {
    "name": "ipython",
    "version": 3
   },
   "file_extension": ".py",
   "mimetype": "text/x-python",
   "name": "python",
   "nbconvert_exporter": "python",
   "pygments_lexer": "ipython3",
   "version": "3.8.1"
  }
 },
 "nbformat": 4,
 "nbformat_minor": 4
}
