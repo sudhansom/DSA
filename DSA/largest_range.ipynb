{
 "cells": [
  {
   "cell_type": "code",
   "execution_count": 18,
   "id": "specified-costa",
   "metadata": {},
   "outputs": [
    {
     "name": "stdout",
     "output_type": "stream",
     "text": [
      "[0, 1, 2, 3, 4, 5, 6, 7]\n",
      "12\n",
      "6\n"
     ]
    }
   ],
   "source": [
    "def largest_range(array):\n",
    "    hash_table = {}\n",
    "    result = []\n",
    "    temp = []\n",
    "    for item in array:\n",
    "        hash_table[item] = True\n",
    "    for item in array:\n",
    "        if len(result) < len(temp):\n",
    "            result = temp.copy()\n",
    "            \n",
    "        if hash_table[item]:\n",
    "            hash_table[item] = False\n",
    "            temp = [item]\n",
    "            a = item\n",
    "            while (a - 1) in hash_table:\n",
    "                hash_table[a - 1] = False\n",
    "                a = a - 1\n",
    "                temp.insert(0, a)\n",
    "            while (item + 1) in hash_table:\n",
    "                hash_table[item + 1] = False\n",
    "                item = item + 1\n",
    "                temp.append(item)\n",
    "                \n",
    "                \n",
    "    return result\n",
    "\n",
    "\n",
    "array = [1, 11, 3, 0, 15, 5, 2, 4, 10, 7, 12, 6]\n",
    "print(largest_range(array))\n",
    "for item in array[-2:]:\n",
    "    print(item)"
   ]
  },
  {
   "cell_type": "code",
   "execution_count": 34,
   "id": "removed-primary",
   "metadata": {},
   "outputs": [
    {
     "name": "stdout",
     "output_type": "stream",
     "text": [
      "7 9\n",
      "6 7\n",
      "5 6\n",
      "4 3\n",
      "3 1\n",
      "2 2\n",
      "1 4\n",
      "0 8\n"
     ]
    },
    {
     "data": {
      "text/plain": [
       "[4, 3, 2, 1, 2, 3, 4, 5, 1]"
      ]
     },
     "execution_count": 34,
     "metadata": {},
     "output_type": "execute_result"
    }
   ],
   "source": [
    "def minRewards(scores):\n",
    "    result = [1 for i in scores]\n",
    "    for i in range(1, len(scores)):\n",
    "        if scores[i] > scores[i - 1]:\n",
    "            result[i] = result[i - 1] + 1\n",
    "    for i in range(len(scores) - 2, -1 , -1):\n",
    "        print(i, scores[i])\n",
    "        if scores[i] > scores[i + 1]:\n",
    "            result[i] = max(result[i], result[i + 1] + 1)\n",
    "    return result\n",
    "scores = [8, 4, 2, 1, 3, 6, 7, 9, 5]\n",
    "minRewards(scores)"
   ]
  },
  {
   "cell_type": "code",
   "execution_count": 71,
   "id": "modern-evolution",
   "metadata": {},
   "outputs": [
    {
     "name": "stdout",
     "output_type": "stream",
     "text": [
      "{0: [1, 0, 9], 1: [0, 9, 9], 2: [0, 0, 9], 3: [1, 0, 9], 4: [0, 0, 0]}\n"
     ]
    }
   ],
   "source": [
    "scores = [8, 4, 2, 1, 3, 6, 7, 9, 5]\n",
    "hash_map = {}\n",
    "for i in range(len(blocks)):\n",
    "    hash_map[i] = [9, 9, 9]\n",
    "for i in range(len(blocks)):\n",
    "    for j, value in enumerate(blocks[i]):\n",
    "        if blocks[i][value]:\n",
    "            hash_map[i][j] = 0\n",
    "a = 0\n",
    "for i in hash_map:\n",
    "    if (hash_map[i][0] or hash_map[i][1] or hash_map[i][2]):\n",
    "        if hash_map[i][0]:\n",
    "            for j in range(i + 1, len(blocks)):\n",
    "                    if not hash_map[j][0]:\n",
    "                        a += 1\n",
    "                        break\n",
    "                    else:\n",
    "                        a += 1\n",
    "            hash_map[i][0] = a\n",
    "            a = 0\n",
    "  \n",
    "print(hash_map)"
   ]
  },
  {
   "cell_type": "code",
   "execution_count": 79,
   "id": "comic-prague",
   "metadata": {},
   "outputs": [
    {
     "name": "stdout",
     "output_type": "stream",
     "text": [
      "[0, 0, 0, 0, 0] [0, 0, 0, 0, 0] [0, 0, 0, 0, 0]\n"
     ]
    }
   ],
   "source": [
    "\n",
    "blocks = [\n",
    "    {\n",
    "      \"gym\": True,\n",
    "      \"school\": True,\n",
    "      \"store\": False\n",
    "    },\n",
    "    {\n",
    "      \"gym\": True,\n",
    "      \"school\": False,\n",
    "      \"store\": False\n",
    "    },\n",
    "    {\n",
    "      \"gym\": True,\n",
    "      \"school\": True,\n",
    "      \"store\": False\n",
    "    },\n",
    "    {\n",
    "      \"gym\": False,\n",
    "      \"school\": True,\n",
    "      \"store\": False\n",
    "    },\n",
    "    {\n",
    "      \"gym\": False,\n",
    "      \"school\": True,\n",
    "      \"store\": True\n",
    "    }\n",
    "  ]\n",
    "g = [0 for _ in range(len(blocks))]\n",
    "sc = [0 for _ in range(len(blocks))]\n",
    "st = [0 for _ in range(len(blocks))]\n",
    "a = 0\n",
    "for gym in blocks:\n",
    "    if gym['gym']:\n",
    "        break\n",
    "    else:\n",
    "        g[0] += 1\n",
    "    if gym['school']:\n",
    "        break\n",
    "    else:\n",
    "        sc[0] += 1\n",
    "    if gym['store']:\n",
    "        break\n",
    "    else:\n",
    "        st[0] += 1\n",
    "    \n",
    "\n",
    "print(g, sc, st)\n",
    "  \n",
    "\n"
   ]
  },
  {
   "cell_type": "code",
   "execution_count": null,
   "id": "silent-bermuda",
   "metadata": {},
   "outputs": [],
   "source": []
  }
 ],
 "metadata": {
  "kernelspec": {
   "display_name": "Python 3",
   "language": "python",
   "name": "python3"
  },
  "language_info": {
   "codemirror_mode": {
    "name": "ipython",
    "version": 3
   },
   "file_extension": ".py",
   "mimetype": "text/x-python",
   "name": "python",
   "nbconvert_exporter": "python",
   "pygments_lexer": "ipython3",
   "version": "3.8.1"
  }
 },
 "nbformat": 4,
 "nbformat_minor": 5
}
