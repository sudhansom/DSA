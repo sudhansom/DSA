{
 "cells": [
  {
   "cell_type": "code",
   "execution_count": 2,
   "id": "light-honor",
   "metadata": {},
   "outputs": [
    {
     "name": "stdout",
     "output_type": "stream",
     "text": [
      "[[-8, 2, 6], [-8, 3, 5], [-6, 1, 5]]\n"
     ]
    }
   ],
   "source": [
    "def three_number_sum(arr, target):\n",
    "    result = []\n",
    "    for i in range(len(arr)-3):\n",
    "        l = i + 1\n",
    "        h = len(arr) - 1\n",
    "        while l < h:\n",
    "            if arr[i] + arr[l] + arr[h] == target:\n",
    "                result.append([arr[i], arr[l], arr[h]])\n",
    "                l += 1\n",
    "                h -= 1\n",
    "            elif arr[i] + arr[l] + arr[h] < target:\n",
    "                l += 1\n",
    "            elif arr[i] + arr[l] + arr[h] > target:\n",
    "                h -= 1\n",
    "    return result\n",
    "\n",
    "arr = [-8, -6, 1, 2, 3, 5, 6, 12]\n",
    "print(three_number_sum(arr, 0))"
   ]
  },
  {
   "cell_type": "code",
   "execution_count": 3,
   "id": "thrown-signal",
   "metadata": {},
   "outputs": [
    {
     "ename": "TypeError",
     "evalue": "unhashable type: 'list'",
     "output_type": "error",
     "traceback": [
      "\u001b[0;31m---------------------------------------------------------------------------\u001b[0m",
      "\u001b[0;31mTypeError\u001b[0m                                 Traceback (most recent call last)",
      "\u001b[0;32m<ipython-input-3-5f1a9fa52f5b>\u001b[0m in \u001b[0;36m<module>\u001b[0;34m\u001b[0m\n\u001b[1;32m     25\u001b[0m \u001b[0;34m\u001b[0m\u001b[0m\n\u001b[1;32m     26\u001b[0m \u001b[0marr\u001b[0m \u001b[0;34m=\u001b[0m \u001b[0;34m[\u001b[0m\u001b[0;36m7\u001b[0m\u001b[0;34m,\u001b[0m \u001b[0;36m6\u001b[0m\u001b[0;34m,\u001b[0m \u001b[0;36m4\u001b[0m\u001b[0;34m,\u001b[0m \u001b[0;34m-\u001b[0m\u001b[0;36m1\u001b[0m\u001b[0;34m,\u001b[0m \u001b[0;36m1\u001b[0m\u001b[0;34m,\u001b[0m \u001b[0;36m2\u001b[0m\u001b[0;34m]\u001b[0m\u001b[0;34m\u001b[0m\u001b[0;34m\u001b[0m\u001b[0m\n\u001b[0;32m---> 27\u001b[0;31m \u001b[0mprint\u001b[0m\u001b[0;34m(\u001b[0m\u001b[0mfour_number_sum\u001b[0m\u001b[0;34m(\u001b[0m\u001b[0marr\u001b[0m\u001b[0;34m,\u001b[0m \u001b[0;36m16\u001b[0m\u001b[0;34m)\u001b[0m\u001b[0;34m)\u001b[0m\u001b[0;34m\u001b[0m\u001b[0;34m\u001b[0m\u001b[0m\n\u001b[0m",
      "\u001b[0;32m<ipython-input-3-5f1a9fa52f5b>\u001b[0m in \u001b[0;36mfour_number_sum\u001b[0;34m(arr, target)\u001b[0m\n\u001b[1;32m      8\u001b[0m                 \u001b[0mb\u001b[0m \u001b[0;34m=\u001b[0m \u001b[0mhash_table\u001b[0m\u001b[0;34m[\u001b[0m\u001b[0ma\u001b[0m\u001b[0;34m]\u001b[0m\u001b[0;34m.\u001b[0m\u001b[0mcopy\u001b[0m\u001b[0;34m(\u001b[0m\u001b[0;34m)\u001b[0m\u001b[0;34m\u001b[0m\u001b[0;34m\u001b[0m\u001b[0m\n\u001b[1;32m      9\u001b[0m                 \u001b[0mb\u001b[0m\u001b[0;34m.\u001b[0m\u001b[0mextend\u001b[0m\u001b[0;34m(\u001b[0m\u001b[0;34m[\u001b[0m\u001b[0marr\u001b[0m\u001b[0;34m[\u001b[0m\u001b[0mi\u001b[0m\u001b[0;34m]\u001b[0m\u001b[0;34m,\u001b[0m \u001b[0marr\u001b[0m\u001b[0;34m[\u001b[0m\u001b[0mj\u001b[0m\u001b[0;34m]\u001b[0m\u001b[0;34m]\u001b[0m\u001b[0;34m)\u001b[0m\u001b[0;34m\u001b[0m\u001b[0;34m\u001b[0m\u001b[0m\n\u001b[0;32m---> 10\u001b[0;31m                 \u001b[0mb\u001b[0m \u001b[0;34m=\u001b[0m \u001b[0mlist\u001b[0m\u001b[0;34m(\u001b[0m\u001b[0mset\u001b[0m\u001b[0;34m(\u001b[0m\u001b[0mb\u001b[0m\u001b[0;34m)\u001b[0m\u001b[0;34m)\u001b[0m\u001b[0;34m\u001b[0m\u001b[0;34m\u001b[0m\u001b[0m\n\u001b[0m\u001b[1;32m     11\u001b[0m                 \u001b[0;32mif\u001b[0m \u001b[0mlen\u001b[0m\u001b[0;34m(\u001b[0m\u001b[0mb\u001b[0m\u001b[0;34m)\u001b[0m\u001b[0;34m==\u001b[0m\u001b[0;36m4\u001b[0m \u001b[0;32mand\u001b[0m \u001b[0msum\u001b[0m\u001b[0;34m(\u001b[0m\u001b[0mb\u001b[0m\u001b[0;34m)\u001b[0m \u001b[0;34m==\u001b[0m \u001b[0mtarget\u001b[0m\u001b[0;34m:\u001b[0m\u001b[0;34m\u001b[0m\u001b[0;34m\u001b[0m\u001b[0m\n\u001b[1;32m     12\u001b[0m                     \u001b[0mresult\u001b[0m\u001b[0;34m.\u001b[0m\u001b[0mappend\u001b[0m\u001b[0;34m(\u001b[0m\u001b[0mb\u001b[0m\u001b[0;34m)\u001b[0m\u001b[0;34m\u001b[0m\u001b[0;34m\u001b[0m\u001b[0m\n",
      "\u001b[0;31mTypeError\u001b[0m: unhashable type: 'list'"
     ]
    }
   ],
   "source": [
    "def four_number_sum(arr, target):\n",
    "    hash_table = {}\n",
    "    result = []\n",
    "    for i in range(len(arr)):\n",
    "        for j in range(i+1, len(arr)):\n",
    "            a = (target - (arr[i] + arr[j] ))\n",
    "            if a in hash_table:\n",
    "                b = hash_table[a].copy()\n",
    "                b.extend([arr[i], arr[j]])\n",
    "                b = list(set(b))\n",
    "                if len(b)==4 and sum(b) == target:\n",
    "                    result.append(b)\n",
    "            if i:\n",
    "                for k in range(i, 0, -1):\n",
    "                    c = arr[i] + arr[k - 1] \n",
    "                    if c not in hash_table:\n",
    "                        hash_table[c] = [[arr[k - 1], arr[i]]]\n",
    "#                     else:\n",
    "#                         hash_table[c].append([arr[k - 1], arr[i]])\n",
    "                            \n",
    "                    \n",
    "        \n",
    "    print(hash_table)\n",
    "    return result\n",
    "\n",
    "arr = [7, 6, 4, -1, 1, 2]\n",
    "print(four_number_sum(arr, 16))"
   ]
  },
  {
   "cell_type": "code",
   "execution_count": 68,
   "id": "controlling-aside",
   "metadata": {},
   "outputs": [],
   "source": [
    "def four_number_sum(arr, target):\n",
    "    result = []\n",
    "    hash_table = {}\n",
    "    for i in range(len(arr)):\n",
    "        print('value:- ',i)\n",
    "        for k in range(i, 0, -1):\n",
    "            print(arr[k-1] + arr[i])\n",
    "    return result\n",
    "\n",
    "arr = [7, 6, 4, -1, 1, 2]\n",
    "# print(four_number_sum(arr, 16))"
   ]
  },
  {
   "cell_type": "code",
   "execution_count": 82,
   "id": "blond-muslim",
   "metadata": {},
   "outputs": [
    {
     "name": "stdout",
     "output_type": "stream",
     "text": [
      "{13: [[7, 6], [8, 5], [1, 1]]}\n"
     ]
    }
   ],
   "source": [
    "my_dict = {13: [[7,6], [8, 5]]}\n",
    "a = []\n",
    "for key, value in my_dict.items():\n",
    "    if key == 13:\n",
    "        value.append([1, 1])\n",
    "    \n",
    "print(my_dict)"
   ]
  },
  {
   "cell_type": "code",
   "execution_count": 11,
   "id": "suburban-friendly",
   "metadata": {},
   "outputs": [
    {
     "name": "stdout",
     "output_type": "stream",
     "text": [
      "value:- 1\n",
      "value:- 2\n",
      "value:- 3\n",
      "value:- 4\n",
      "value:- 5\n",
      "value:- 2\n",
      "value:- 3\n",
      "[7, 6]\n",
      "value:- 4\n",
      "[7, 6]\n",
      "value:- 5\n",
      "[7, 6]\n",
      "value:- 3\n",
      "value:- 4\n",
      "[6, 4]\n",
      "[7, 4]\n",
      "value:- 5\n",
      "[6, 4]\n",
      "[7, 4]\n",
      "value:- 4\n",
      "value:- 5\n",
      "[4, -1]\n",
      "[6, -1]\n",
      "[7, -1]\n",
      "value:- 5\n",
      "[4, 1]\n",
      "{13: [7, 6], 10: [6, 4], 11: [7, 4], 3: [4, -1], 5: [6, -1], 6: [7, -1], 0: [-1, 1], 7: [6, 1], 8: [7, 1]}\n",
      "[[4, -1, 6, 7], [1, 2, 6, 7]]\n"
     ]
    }
   ],
   "source": [
    "def four_number_sum(arr, target):\n",
    "    hash_table = {}\n",
    "    result = []\n",
    "    for i in range(len(arr)):\n",
    "        for j in range(i+1, len(arr)):\n",
    "            print('value:-', j)\n",
    "            a = (target - (arr[i] + arr[j] ))\n",
    "            if a in hash_table:\n",
    "                b = hash_table[a].copy()\n",
    "                b.extend([arr[i], arr[j]])\n",
    "                b = list(set(b))\n",
    "                if len(b)==4 and sum(b) == target:\n",
    "                    result.append(b)\n",
    "            \n",
    "            if i:\n",
    "                for k in range(i, 0, -1):\n",
    "                    c = arr[i] + arr[k - 1] \n",
    "                    if c not in hash_table:\n",
    "                        hash_table[c] = [arr[k - 1], arr[i]]\n",
    "                    else:\n",
    "                        print([arr[k - 1], arr[i]])\n",
    "#                         hash_table[c].append([arr[k - 1], arr[i]])\n",
    "                            \n",
    "                    \n",
    "        \n",
    "    print(hash_table)\n",
    "    return result\n",
    "\n",
    "arr = [7, 6, 4, -1, 1, 2]\n",
    "print(four_number_sum(arr, 16))"
   ]
  },
  {
   "cell_type": "code",
   "execution_count": null,
   "id": "stuffed-search",
   "metadata": {},
   "outputs": [],
   "source": []
  }
 ],
 "metadata": {
  "kernelspec": {
   "display_name": "Python 3",
   "language": "python",
   "name": "python3"
  },
  "language_info": {
   "codemirror_mode": {
    "name": "ipython",
    "version": 3
   },
   "file_extension": ".py",
   "mimetype": "text/x-python",
   "name": "python",
   "nbconvert_exporter": "python",
   "pygments_lexer": "ipython3",
   "version": "3.8.1"
  }
 },
 "nbformat": 4,
 "nbformat_minor": 5
}
