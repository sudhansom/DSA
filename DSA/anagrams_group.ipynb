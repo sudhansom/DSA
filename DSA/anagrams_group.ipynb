{
 "cells": [
  {
   "cell_type": "code",
   "execution_count": 1,
   "id": "extended-plenty",
   "metadata": {},
   "outputs": [
    {
     "name": "stdout",
     "output_type": "stream",
     "text": [
      "[['yo', 'oy'], ['act', 'tac', 'cat'], ['flop', 'olfp'], ['foo']]\n"
     ]
    }
   ],
   "source": [
    "def groupAnagrams(words):\n",
    "    result = {}\n",
    "    for items in words:\n",
    "        key = sorted(items)\n",
    "        key = ''.join(key)\n",
    "        \n",
    "        if key in result:\n",
    "            result[key].append(items)\n",
    "        else:\n",
    "            result[key] = [items]\n",
    "    arr = []\n",
    "    for key, value in result.items():\n",
    "        arr.append(value)\n",
    "    return arr\n",
    "\n",
    "words = [\"yo\", \"act\", \"flop\", \"tac\", \"foo\", \"cat\", \"oy\", \"olfp\"]\n",
    "print(groupAnagrams(words))"
   ]
  },
  {
   "cell_type": "code",
   "execution_count": null,
   "id": "scenic-judge",
   "metadata": {},
   "outputs": [],
   "source": []
  }
 ],
 "metadata": {
  "kernelspec": {
   "display_name": "Python 3",
   "language": "python",
   "name": "python3"
  },
  "language_info": {
   "codemirror_mode": {
    "name": "ipython",
    "version": 3
   },
   "file_extension": ".py",
   "mimetype": "text/x-python",
   "name": "python",
   "nbconvert_exporter": "python",
   "pygments_lexer": "ipython3",
   "version": "3.8.1"
  }
 },
 "nbformat": 4,
 "nbformat_minor": 5
}
