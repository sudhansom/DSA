{
 "cells": [
  {
   "cell_type": "code",
   "execution_count": 62,
   "id": "rolled-relaxation",
   "metadata": {},
   "outputs": [
    {
     "name": "stdout",
     "output_type": "stream",
     "text": [
      "[0, 1, 2, 3, 4, 8, 9, 17, 18, 20, 21, 23, 34]\n",
      "[[17], [20, 4], [1, 9, 18, 23], [34, 21, 8, 3, 0], [2]]\n"
     ]
    }
   ],
   "source": [
    "class Bst:\n",
    "    def __init__(self, val, left=None, right=None):\n",
    "        self.value = val\n",
    "        self.left = left\n",
    "        self.right = right\n",
    "        \n",
    "    def append(self, val):\n",
    "        if val < self.value:\n",
    "            if self.left:\n",
    "                self.left.append(val)\n",
    "            else:\n",
    "                self.left = Bst(val)\n",
    "        else:\n",
    "            if self.right:\n",
    "                self.right.append(val)\n",
    "            else:\n",
    "                self.right = Bst(val)\n",
    "                \n",
    "    def in_order_traversal(self):\n",
    "        array = []\n",
    "        if self.left:\n",
    "            array += self.left.in_order_traversal()\n",
    "        array.append(self.value)\n",
    "        if self.right:\n",
    "            array += self.right.in_order_traversal()\n",
    "        return array\n",
    "    def jig_jag_traversal(self, lev, arr):\n",
    "        try:\n",
    "            \n",
    "            if not lev % 2:\n",
    "                arr[lev].append(self.value)\n",
    "#                 arr[lev].sort()\n",
    "            else:\n",
    "                arr[lev].insert(0, self.value)\n",
    "        except IndexError:\n",
    "            arr.append([self.value] )\n",
    "#         if lev % 2: \n",
    "        if self.left:\n",
    "            self.left.jig_jag_traversal(lev + 1, arr)\n",
    "        if self.right:\n",
    "            self.right.jig_jag_traversal(lev + 1, arr)\n",
    "               \n",
    "#         else:\n",
    "#             if self.right:\n",
    "#                 self.right.jig_jag_traversal(lev + 1, arr)\n",
    "#             if self.left:\n",
    "#                 self.left.jig_jag_traversal(lev + 1, arr)\n",
    "            \n",
    "        return arr\n",
    "    \n",
    "def make_a_tree(arr):\n",
    "    root = Bst(arr[0])\n",
    "    for elements in arr[1:]:\n",
    "        root.append(elements)\n",
    "        \n",
    "    return root\n",
    "\n",
    "arr = [17, 4, 9, 20, 1, 18, 23, 34, 21, 0, 3, 8, 2]\n",
    "root = make_a_tree(arr)\n",
    "print(root.in_order_traversal())\n",
    "arr = []\n",
    "print(root.jig_jag_traversal(0, []))"
   ]
  },
  {
   "cell_type": "code",
   "execution_count": 53,
   "id": "prostate-probability",
   "metadata": {},
   "outputs": [
    {
     "name": "stdout",
     "output_type": "stream",
     "text": [
      "[8, 5, 4, 3, 1]\n"
     ]
    }
   ],
   "source": [
    "array = [4, 5, 8, 1, 3]\n",
    "array.sort(reverse=True)\n",
    "print(array)"
   ]
  },
  {
   "cell_type": "code",
   "execution_count": null,
   "id": "technological-rubber",
   "metadata": {},
   "outputs": [],
   "source": []
  }
 ],
 "metadata": {
  "kernelspec": {
   "display_name": "Python 3",
   "language": "python",
   "name": "python3"
  },
  "language_info": {
   "codemirror_mode": {
    "name": "ipython",
    "version": 3
   },
   "file_extension": ".py",
   "mimetype": "text/x-python",
   "name": "python",
   "nbconvert_exporter": "python",
   "pygments_lexer": "ipython3",
   "version": "3.8.1"
  }
 },
 "nbformat": 4,
 "nbformat_minor": 5
}
