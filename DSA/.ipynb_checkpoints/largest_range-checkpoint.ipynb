{
 "cells": [
  {
   "cell_type": "code",
   "execution_count": null,
   "id": "extended-drilling",
   "metadata": {},
   "outputs": [],
   "source": [
    "def largest_range(array):\n",
    "    hash_table = {}\n",
    "    result = []\n",
    "    temp = []\n",
    "    for item in array:\n",
    "        hash_table[item] = True\n",
    "    for item in array:\n",
    "        \n",
    "        if hash_table[item]:\n",
    "            temp.append(item)\n",
    "            while (item - 1) in hash_table:\n",
    "                item = item - 1\n",
    "                temp.insert(0, item)\n",
    "            while (item + 1) in hash_table:\n",
    "                item = item + 1\n",
    "                temp.append(item)\n",
    "                \n",
    "                \n",
    "    return result\n",
    "array = [1, 11, 3, 0, 15, 5, 2, 4, 10, 7, 12, 6]"
   ]
  }
 ],
 "metadata": {
  "kernelspec": {
   "display_name": "Python 3",
   "language": "python",
   "name": "python3"
  },
  "language_info": {
   "codemirror_mode": {
    "name": "ipython",
    "version": 3
   },
   "file_extension": ".py",
   "mimetype": "text/x-python",
   "name": "python",
   "nbconvert_exporter": "python",
   "pygments_lexer": "ipython3",
   "version": "3.8.1"
  }
 },
 "nbformat": 4,
 "nbformat_minor": 5
}
