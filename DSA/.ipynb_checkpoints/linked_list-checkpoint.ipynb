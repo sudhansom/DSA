{
 "cells": [
  {
   "cell_type": "code",
   "execution_count": 8,
   "id": "intensive-conclusion",
   "metadata": {},
   "outputs": [],
   "source": [
    "class Node:\n",
    "    def __init__(self, data, next=None):\n",
    "        self.data = data\n",
    "        self.next = next\n",
    "        \n",
    "class Linked_list:\n",
    "    def __init__(self):\n",
    "        self.head = None\n",
    "        self.length = 0\n",
    "        \n",
    "    def append(self, data):\n",
    "        self.length += 1\n",
    "        if self.head == None:\n",
    "            self.head = Node(data)\n",
    "            return\n",
    "        itr = self.head\n",
    "        while itr.next:\n",
    "            itr = itr.next\n",
    "        itr.next = Node(data)\n",
    "        \n",
    "    def display(self):\n",
    "        if not self.head:\n",
    "            return None\n",
    "        itr = self.head\n",
    "        while itr:\n",
    "            print(itr.data, end=' ')\n",
    "            itr = itr.next\n",
    "#         print(None)\n",
    "        print('')\n",
    "        \n",
    "    def __len__(self):\n",
    "        return self.length\n",
    "    \n",
    "    def __getitem__(self, indx):\n",
    "        if self.head is None:\n",
    "            return\n",
    "        itr = self.head\n",
    "        cnt = 0\n",
    "        while itr:\n",
    "            if cnt == indx:\n",
    "                return itr.data\n",
    "            itr = itr.next\n",
    "            cnt += 1\n",
    "            "
   ]
  },
  {
   "cell_type": "code",
   "execution_count": 3,
   "id": "trained-preliminary",
   "metadata": {},
   "outputs": [
    {
     "name": "stdout",
     "output_type": "stream",
     "text": [
      "0 4 4 5 6 7 0 0 1 \n",
      "9 1 1 1 1 1 3 1 \n",
      "1 2 3 4 5 6 7 8 \n"
     ]
    }
   ],
   "source": [
    "l1 = Linked_list()\n",
    "l2 = Linked_list()\n",
    "arr1 = [1, 2, 3, 4, 5, 6, 7, 8]\n",
    "arr2 = [9, 1, 1, 1, 1, 1, 3, 1]\n",
    "# arr1 = [2, 4, 9, 9]\n",
    "# arr2 = [5, 6, 8]\n",
    "for item in arr1:\n",
    "    l1.append(item)\n",
    "\n",
    "for item in arr2:\n",
    "    l2.append(item)\n",
    "\n",
    "result = Linked_list()\n",
    "i = 0\n",
    "q = 0\n",
    "while l1[i] or l2[i]:\n",
    "    if l1[i] and l2[i]:\n",
    "        reminder = (l1[i]+l2[i] + q) % 10\n",
    "        q = (l1[i]+l2[i] + q) // 10\n",
    "    elif l1[i]:\n",
    "        reminder = (l1[i] + q) % 10\n",
    "        q = (l1[i] + q) // 10\n",
    "    else:\n",
    "        reminder = (l2[i] + q) % 10\n",
    "        q = (l2[i] + q) // 10\n",
    "    result.append(reminder)\n",
    "    i += 1\n",
    "if q:\n",
    "    result.append(q)\n",
    "\n",
    "result.display()\n",
    "\n",
    "\n",
    "l2.display()\n",
    "l1.display()"
   ]
  },
  {
   "cell_type": "code",
   "execution_count": null,
   "id": "corrected-horizontal",
   "metadata": {},
   "outputs": [],
   "source": []
  }
 ],
 "metadata": {
  "kernelspec": {
   "display_name": "Python 3",
   "language": "python",
   "name": "python3"
  },
  "language_info": {
   "codemirror_mode": {
    "name": "ipython",
    "version": 3
   },
   "file_extension": ".py",
   "mimetype": "text/x-python",
   "name": "python",
   "nbconvert_exporter": "python",
   "pygments_lexer": "ipython3",
   "version": "3.8.1"
  }
 },
 "nbformat": 4,
 "nbformat_minor": 5
}
