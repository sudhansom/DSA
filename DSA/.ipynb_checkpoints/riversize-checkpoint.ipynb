{
 "cells": [
  {
   "cell_type": "code",
   "execution_count": 1,
   "id": "ready-franchise",
   "metadata": {},
   "outputs": [
    {
     "name": "stdout",
     "output_type": "stream",
     "text": [
      "[1, 1, 5]\n"
     ]
    }
   ],
   "source": [
    "def riverSize(matrix):\n",
    "    sizes = []\n",
    "    visited = [[False for _ in row] for row in matrix]\n",
    "    for i in range(len(matrix)):\n",
    "        for j in range(len(matrix[i])):\n",
    "            if visited[i][j]:\n",
    "                continue\n",
    "            explore(i, j, visited, matrix, sizes)\n",
    "    return sizes\n",
    "\n",
    "def explore(i, j, visited, matrix, sizes):\n",
    "    currentSize = 0\n",
    "    nodes_to_explore = [[i,j]]\n",
    "    while len(nodes_to_explore):\n",
    "        i,j = nodes_to_explore.pop()\n",
    "        if visited[i][j]:\n",
    "            continue\n",
    "        visited[i][j] = True\n",
    "        if  not matrix[i][j]:\n",
    "            continue\n",
    "        currentSize += 1\n",
    "        unvisited_neighbours = find_neighbours(i,j, visited, matrix)\n",
    "        for nodes in unvisited_neighbours:\n",
    "            nodes_to_explore.append(nodes)\n",
    "    if currentSize:\n",
    "        sizes.append(currentSize)\n",
    "        \n",
    "def find_neighbours(i, j, visited, matrix):\n",
    "    unvisited_neighbours = []\n",
    "    if i > 0 and not visited[i-1][j]:\n",
    "        unvisited_neighbours.append([i-1, j])\n",
    "    if i < len(matrix) - 1 and not visited[i + 1][j]:\n",
    "        unvisited_neighbours.append([i + 1, j])\n",
    "    if j > 0 and not visited[i][j - 1]:\n",
    "        unvisited_neighbours.append([i, j - 1])\n",
    "    if j < len(matrix[0]) - 1 and not visited[i][j + 1]:\n",
    "        unvisited_neighbours.append([i, j + 1])\n",
    "        \n",
    "    return unvisited_neighbours\n",
    "\n",
    "matrix = [[1, 0, 0, 1],\n",
    "          [0, 0, 0, 0],\n",
    "          [1, 1, 1, 1],\n",
    "          [0, 0, 0, 1]]\n",
    "\n",
    "print(riverSize(matrix))\n",
    "        \n",
    "        "
   ]
  },
  {
   "cell_type": "code",
   "execution_count": 10,
   "id": "temporal-volleyball",
   "metadata": {},
   "outputs": [
    {
     "name": "stdout",
     "output_type": "stream",
     "text": [
      "[0, 1, 2, 33, 55, 66, 99]\n"
     ]
    }
   ],
   "source": [
    "def divide_arr(arr):\n",
    "    if len(arr) < 2:\n",
    "        return arr\n",
    "    mid = len(arr)//2\n",
    "    left = divide_arr(arr[:mid])\n",
    "    right = divide_arr(arr[mid:])\n",
    "    return merge(left, right)\n",
    "\n",
    "def merge(left, right):\n",
    "    new_arr = []\n",
    "    while len(left) and len(right):\n",
    "        if left[0] < right[0]:\n",
    "            new_arr.append(left[0])\n",
    "            left = left[1:]\n",
    "        else:\n",
    "            new_arr.append(right[0])\n",
    "            right = right[1:]\n",
    "    new_arr.extend(left)\n",
    "    new_arr.extend(right)\n",
    "    return new_arr\n",
    "\n",
    "arr = [55, 66, 33, 99, 1, 2, 0]\n",
    "print(divide_arr(arr))"
   ]
  },
  {
   "cell_type": "code",
   "execution_count": 18,
   "id": "forward-connectivity",
   "metadata": {},
   "outputs": [
    {
     "name": "stdout",
     "output_type": "stream",
     "text": [
      "5\n"
     ]
    }
   ],
   "source": [
    "def search(arr, lb, ub, target):\n",
    "    if lb > ub:\n",
    "        return -1\n",
    "    mid = (lb + ub)//2\n",
    "    if target < arr[mid]:\n",
    "        ub = mid - 1\n",
    "    elif target > arr[mid]:\n",
    "        lb = mid + 1\n",
    "    elif target == arr[mid]:\n",
    "        return mid\n",
    "    return search(arr, lb, ub, target)\n",
    "\n",
    "arr = [0, 1, 2, 33, 55, 66, 99]\n",
    "print(search(arr, 0, len(arr), 66))"
   ]
  },
  {
   "cell_type": "code",
   "execution_count": 23,
   "id": "painful-tumor",
   "metadata": {},
   "outputs": [
    {
     "ename": "NameError",
     "evalue": "name 'riverSize' is not defined",
     "output_type": "error",
     "traceback": [
      "\u001b[0;31m---------------------------------------------------------------------------\u001b[0m",
      "\u001b[0;31mNameError\u001b[0m                                 Traceback (most recent call last)",
      "\u001b[0;32m<ipython-input-23-5340e3bdbb8f>\u001b[0m in \u001b[0;36m<module>\u001b[0;34m\u001b[0m\n\u001b[1;32m     43\u001b[0m           [0, 0, 0, 1]]\n\u001b[1;32m     44\u001b[0m \u001b[0;34m\u001b[0m\u001b[0m\n\u001b[0;32m---> 45\u001b[0;31m \u001b[0mprint\u001b[0m\u001b[0;34m(\u001b[0m\u001b[0mriverSize\u001b[0m\u001b[0;34m(\u001b[0m\u001b[0mmatrix\u001b[0m\u001b[0;34m)\u001b[0m\u001b[0;34m)\u001b[0m\u001b[0;34m\u001b[0m\u001b[0;34m\u001b[0m\u001b[0m\n\u001b[0m",
      "\u001b[0;31mNameError\u001b[0m: name 'riverSize' is not defined"
     ]
    }
   ],
   "source": [
    "def riverSizes(matrix):\n",
    "    visited = [[False for _ in row] for row in matrix]\n",
    "    sizes = []\n",
    "    for i in len(matrix):\n",
    "        for j in i:\n",
    "            if visited[i][j]:\n",
    "                continue\n",
    "            explore(i, j, matrix, visited, sizes)\n",
    "    return sizes\n",
    "\n",
    "def explore(i, j, matrix, visited, sizes):\n",
    "    currentSize = 0\n",
    "    node_to_explore = [[i, j]]\n",
    "    while node_to_explore:\n",
    "        i, j = node_to_explore.pop()\n",
    "        if visited[i][j]:\n",
    "            continue\n",
    "        visited[i][j] = True\n",
    "        if not matrix[i][j]:\n",
    "            continue\n",
    "        currentSize += 1\n",
    "        unvisited_nodes = node_to_visit(i, j, matrix, visited)\n",
    "        for node in unvisited_nodes:\n",
    "            node_to_explore.append(node)\n",
    "    if currentSize:\n",
    "        sizes.append(currentSize)\n",
    "\n",
    "def node_to_visit(i, j, matrix, visited):\n",
    "    unvisited_nodes = []\n",
    "    if i > 0 and not visited[i - 1][j]:\n",
    "        unvisited_nodes.append([i - 1,j])\n",
    "    if i < len(matrix)-1 and not visited[i + 1][j]:\n",
    "        unvisited_nodes.append([i + 1,j])\n",
    "    if j > 0 and not visited[i][j - 1]:\n",
    "        unvisited_nodes.append([i, j - 1])\n",
    "    if j < len(matrix)-1 and not visited[j + 1][i]:\n",
    "        unvisited_nodes.append([j + 1, i])\n",
    "    return unvisited_nodes\n",
    "\n",
    "matrix = [[1, 0, 0, 1],\n",
    "          [0, 0, 0, 0],\n",
    "          [1, 1, 1, 1],\n",
    "          [0, 0, 0, 1]]\n",
    "\n",
    "print(riverSize(matrix))"
   ]
  },
  {
   "cell_type": "code",
   "execution_count": null,
   "id": "rural-order",
   "metadata": {},
   "outputs": [],
   "source": []
  }
 ],
 "metadata": {
  "kernelspec": {
   "display_name": "Python 3",
   "language": "python",
   "name": "python3"
  },
  "language_info": {
   "codemirror_mode": {
    "name": "ipython",
    "version": 3
   },
   "file_extension": ".py",
   "mimetype": "text/x-python",
   "name": "python",
   "nbconvert_exporter": "python",
   "pygments_lexer": "ipython3",
   "version": "3.8.1"
  }
 },
 "nbformat": 4,
 "nbformat_minor": 5
}
