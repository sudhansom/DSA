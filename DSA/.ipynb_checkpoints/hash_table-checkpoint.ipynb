{
 "cells": [
  {
   "cell_type": "code",
   "execution_count": 2,
   "id": "portable-narrow",
   "metadata": {},
   "outputs": [
    {
     "name": "stdout",
     "output_type": "stream",
     "text": [
      "[]\n",
      "[]\n",
      "[]\n",
      "[]\n",
      "[]\n",
      "[('march 2', 13)]\n",
      "[('march 3', 14)]\n",
      "[('march 4', 19)]\n",
      "[('march 5', 15)]\n",
      "[('march 17', 111)]\n"
     ]
    }
   ],
   "source": [
    "class HashTable:\n",
    "    def __init__(self):\n",
    "        self.MAX = 10\n",
    "        self.arr = [[] for i in range(self.MAX)]\n",
    "        \n",
    "    def hashFunction(self, key):\n",
    "        h = 0\n",
    "        for char in key:\n",
    "            h += ord(char)\n",
    "        return h % self.MAX\n",
    "    \n",
    "    def __setitem__(self, key, value):\n",
    "        found = False\n",
    "        h = self.hashFunction(key)\n",
    "        for index, kv in enumerate(self.arr[h]):\n",
    "            if kv[0] == key:\n",
    "                self.arr[h][index] = (key, value)\n",
    "                found = True\n",
    "        if not found:\n",
    "            self.arr[h].append((key,value))\n",
    "            \n",
    "        \n",
    "    def __getitem__(self, key):\n",
    "        h = self.hashFunction(key)\n",
    "        for index, kv in enumerate(self.arr[h]):\n",
    "            if kv[0] == key:\n",
    "                return kv[1]\n",
    "        \n",
    "    \n",
    "    def __delitem__(self, key):\n",
    "        h = self.hashFunction(key)\n",
    "        for index, kv in enumerate(self.arr[h]):\n",
    "            if kv[0] == key:\n",
    "                del self.arr[h][index]\n",
    "                break\n",
    "    \n",
    "ht = HashTable()\n",
    "ht['march 6'] = 1\n",
    "ht['march 17'] = 11\n",
    "ht['march 2'] = 13\n",
    "ht['march 3'] = 14\n",
    "ht['march 5'] = 15\n",
    "ht['march 4'] = 19\n",
    "del ht['march 6']\n",
    "ht['march 17'] = 111\n",
    "# print(ht['march 6'])\n",
    "for i in ht.arr:\n",
    "    print(i)"
   ]
  },
  {
   "cell_type": "code",
   "execution_count": null,
   "id": "horizontal-visit",
   "metadata": {},
   "outputs": [],
   "source": []
  }
 ],
 "metadata": {
  "kernelspec": {
   "display_name": "Python 3",
   "language": "python",
   "name": "python3"
  },
  "language_info": {
   "codemirror_mode": {
    "name": "ipython",
    "version": 3
   },
   "file_extension": ".py",
   "mimetype": "text/x-python",
   "name": "python",
   "nbconvert_exporter": "python",
   "pygments_lexer": "ipython3",
   "version": "3.8.1"
  }
 },
 "nbformat": 4,
 "nbformat_minor": 5
}
