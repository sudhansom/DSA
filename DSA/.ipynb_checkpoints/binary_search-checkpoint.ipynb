{
 "cells": [
  {
   "cell_type": "code",
   "execution_count": 5,
   "metadata": {},
   "outputs": [
    {
     "name": "stdout",
     "output_type": "stream",
     "text": [
      "1\n"
     ]
    }
   ],
   "source": [
    "def search(arr,lb, ub, target):\n",
    "    mid = (lb + ub) // 2\n",
    "    if lb > ub:\n",
    "        return -1\n",
    "    elif target < arr[mid]:\n",
    "        ub = mid - 1\n",
    "    elif target > arr[mid]:\n",
    "        lb = mid + 1\n",
    "    elif target == arr[mid]:\n",
    "        return mid\n",
    "    return search(arr, lb, ub, target)\n",
    "    \n",
    "        \n",
    "arr = [0, 2, 4, 7, 8, 11, 17, 19]\n",
    "lb = 0\n",
    "ub = 5\n",
    "print(search(arr,0, len(arr)-1, 2))\n",
    "    "
   ]
  },
  {
   "cell_type": "code",
   "execution_count": null,
   "metadata": {},
   "outputs": [],
   "source": []
  }
 ],
 "metadata": {
  "kernelspec": {
   "display_name": "Python 3",
   "language": "python",
   "name": "python3"
  },
  "language_info": {
   "codemirror_mode": {
    "name": "ipython",
    "version": 3
   },
   "file_extension": ".py",
   "mimetype": "text/x-python",
   "name": "python",
   "nbconvert_exporter": "python",
   "pygments_lexer": "ipython3",
   "version": "3.8.1"
  }
 },
 "nbformat": 4,
 "nbformat_minor": 4
}
