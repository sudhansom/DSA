{
 "cells": [
  {
   "cell_type": "code",
   "execution_count": 72,
   "id": "floppy-digest",
   "metadata": {},
   "outputs": [
    {
     "name": "stdout",
     "output_type": "stream",
     "text": [
      "[-1, 0, 1, 2, 3, 4, 8, 9, 17, 18, 20, 21, 22, 23, 30, 31, 32, 34, 35]\n",
      "[[17], [20, 4], [1, 9, 18, 23], [34, 21, 8, 3, 0], [-1, 2, 22, 30, 35], [31], [32]]\n"
     ]
    }
   ],
   "source": [
    "class Bst:\n",
    "    def __init__(self, val, left=None, right=None):\n",
    "        self.value = val\n",
    "        self.left = left\n",
    "        self.right = right\n",
    "        \n",
    "    def append(self, val):\n",
    "        if val < self.value:\n",
    "            if self.left:\n",
    "                self.left.append(val)\n",
    "            else:\n",
    "                self.left = Bst(val)\n",
    "        else:\n",
    "            if self.right:\n",
    "                self.right.append(val)\n",
    "            else:\n",
    "                self.right = Bst(val)\n",
    "                \n",
    "    def in_order_traversal(self):\n",
    "        array = []\n",
    "        if self.left:\n",
    "            array += self.left.in_order_traversal()\n",
    "        array.append(self.value)\n",
    "        if self.right:\n",
    "            array += self.right.in_order_traversal()\n",
    "        return array\n",
    "    \n",
    "    \n",
    "    def jig_jag_traversal(self, lev, arr):\n",
    "        try:\n",
    "            if not lev % 2:\n",
    "                arr[lev].append(self.value)\n",
    "            else:\n",
    "                arr[lev].insert(0, self.value)\n",
    "        except IndexError:\n",
    "            arr.append([self.value] )\n",
    "            \n",
    "        if self.left:\n",
    "            self.left.jig_jag_traversal(lev + 1, arr)\n",
    "        if self.right:\n",
    "            self.right.jig_jag_traversal(lev + 1, arr)\n",
    "            \n",
    "        return arr\n",
    "    \n",
    "def make_a_tree(arr):\n",
    "    root = Bst(arr[0])\n",
    "    for elements in arr[1:]:\n",
    "        root.append(elements)\n",
    "        \n",
    "    return root\n",
    "\n",
    "arr = [17, 4, 9, 20, 1, 18, 23, 34, 21, 22, 0, 3, 8, 30, 31, 32,35, 2, -1]\n",
    "root = make_a_tree(arr)\n",
    "print(root.in_order_traversal())\n",
    "arr = []\n",
    "print(root.jig_jag_traversal(0, []))"
   ]
  },
  {
   "cell_type": "code",
   "execution_count": 67,
   "id": "computational-soccer",
   "metadata": {},
   "outputs": [
    {
     "name": "stdout",
     "output_type": "stream",
     "text": [
      "[[1, 2, 1], [2, 3, 4], [4, 4, 5]]\n",
      "[[2, 1, 2], [3, 2, 3], [4, 4, 5]]\n",
      "[[3, 2, 3], [4, 4, 5]]\n",
      "[[2, 3, 4], [4, 4, 5]]\n",
      "[[1, 1, 4], [2, 2, 8]]\n",
      "[[4, 4, 5]]\n",
      "[[2, 2, 8]]\n"
     ]
    }
   ],
   "source": [
    "def diskStacking(arr):\n",
    "    arr.sort(key=lambda x : x[2])\n",
    "    result = []\n",
    "    i = 0\n",
    "    while i <= (len(arr)-1):\n",
    "        array =[arr[i]]\n",
    "        i += 1\n",
    "        for item in arr[i:]:\n",
    "            if item[0] > array[-1][0] and item[1] > array[-1][1]:\n",
    "                array.append(item)\n",
    "            if len(array)>1:\n",
    "                if item[0] > array[-2][0] and item[1] > array[-2][1] and (array[-2][2]+item[2]>array[-1][2]+array[-2][2]):\n",
    "                    array[-1] = item\n",
    "        result.append(array)\n",
    "    height = 0\n",
    "    indx = 0\n",
    "    for i, item in enumerate(result):\n",
    "        h = 0\n",
    "        for elem in item:\n",
    "            h += elem[2]\n",
    "        if h > height:\n",
    "            height = h\n",
    "            index = i\n",
    "        \n",
    "    return result\n",
    "# arr = [[2, 2, 1], [2, 1, 2],[3, 2, 3], [2, 3, 4], [4, 4, 5], [2, 2, 8]]\n",
    "arr = [\n",
    "    [2, 1, 2],\n",
    "    [3, 2, 3],\n",
    "    [2, 2, 8],\n",
    "    [2, 3, 4],\n",
    "    [1, 2, 1],\n",
    "    [4, 4, 5],\n",
    "    [1, 1, 4]\n",
    "  ]\n",
    "arr = diskStacking(arr)\n",
    "for item in arr:\n",
    "    print(item)"
   ]
  },
  {
   "cell_type": "code",
   "execution_count": 55,
   "id": "fifty-satin",
   "metadata": {},
   "outputs": [
    {
     "name": "stdout",
     "output_type": "stream",
     "text": [
      "[[2, 2, 1], [2, 1, 2], [3, 2, 3], [2, 3, 4], [4, 4, 5], [2, 2, 8]]\n"
     ]
    }
   ],
   "source": [
    "arr = [[2, 2, 1], [2, 1, 2],[3, 2, 3], [2, 3, 4], [4, 4, 5], [2, 2, 8]]\n",
    "arr.sort(key = lambda x : x[2])\n",
    "print(arr)"
   ]
  },
  {
   "cell_type": "code",
   "execution_count": null,
   "id": "prostate-header",
   "metadata": {},
   "outputs": [],
   "source": []
  }
 ],
 "metadata": {
  "kernelspec": {
   "display_name": "Python 3",
   "language": "python",
   "name": "python3"
  },
  "language_info": {
   "codemirror_mode": {
    "name": "ipython",
    "version": 3
   },
   "file_extension": ".py",
   "mimetype": "text/x-python",
   "name": "python",
   "nbconvert_exporter": "python",
   "pygments_lexer": "ipython3",
   "version": "3.8.1"
  }
 },
 "nbformat": 4,
 "nbformat_minor": 5
}
