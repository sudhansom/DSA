{
 "cells": [
  {
   "cell_type": "code",
   "execution_count": 11,
   "id": "removable-circumstances",
   "metadata": {},
   "outputs": [
    {
     "data": {
      "text/plain": [
       "['abcdef', 'abcde', 'abc']"
      ]
     },
     "execution_count": 11,
     "metadata": {},
     "output_type": "execute_result"
    }
   ],
   "source": [
    "def longest_string_chain(strings):\n",
    "    result = []\n",
    "    for item in strings:\n",
    "        a = item[0]\n",
    "        for i, element in enumerate(item[1:]):\n",
    "            if ord(item[i + 1]) == ord(item[i]) + 1:\n",
    "                a += element\n",
    "            else:\n",
    "                break\n",
    "        if len(result):\n",
    "            if item == a and len(a) < len(result[-1]):\n",
    "                result.append(a)\n",
    "            else:\n",
    "                if item == a and len(a)>1:\n",
    "                    result.insert(0, a)\n",
    "        else:\n",
    "            if item == a and len(a)>1:\n",
    "                result.append(a)\n",
    "    return result\n",
    "\n",
    "strings = [\"abde\", \"abc\", \"abd\", \"abcde\", \"ade\", \"ae\", \"1abde\", \"abcdef\"]\n",
    "longest_string_chain(strings)"
   ]
  },
  {
   "cell_type": "code",
   "execution_count": 22,
   "id": "medium-malta",
   "metadata": {},
   "outputs": [
    {
     "name": "stdout",
     "output_type": "stream",
     "text": [
      "['abcdef', 'labde', 'ade', 'abcde', 'abd', 'abde', 'abc', 'ae']\n"
     ]
    },
    {
     "data": {
      "text/plain": [
       "['abcdef', 'abcde']"
      ]
     },
     "execution_count": 22,
     "metadata": {},
     "output_type": "execute_result"
    }
   ],
   "source": [
    "def longest_string_chain(strings):\n",
    "    result = []\n",
    "    for item in strings:\n",
    "        if len(result):\n",
    "            if len(item) < len(result[-1]):\n",
    "                result.append(item)\n",
    "            else:\n",
    "                result.insert(0, item)\n",
    "        else:\n",
    "            result.append(item)\n",
    "    arr = []\n",
    "    print(result)\n",
    "    for item in result:\n",
    "        a = item[0]\n",
    "        for element in item[1:]:\n",
    "            if ord(element) == ord(a[-1]) + 1:\n",
    "                a += element\n",
    "            else:\n",
    "                break\n",
    "        if len(a) == len(item):\n",
    "            if len(arr):\n",
    "                if len(item) == len(arr[-1]) -1:\n",
    "                    arr.append(item)\n",
    "            else:\n",
    "                arr.append(item)\n",
    "            \n",
    "    return arr\n",
    "\n",
    "strings = [\"abde\", \"abc\", \"abd\", \"abcde\", \"ade\", \"ae\", \"labde\", \"abcdef\"]\n",
    "longest_string_chain(strings)"
   ]
  },
  {
   "cell_type": "code",
   "execution_count": 51,
   "id": "monetary-missile",
   "metadata": {},
   "outputs": [
    {
     "ename": "KeyError",
     "evalue": "4",
     "output_type": "error",
     "traceback": [
      "\u001b[0;31m---------------------------------------------------------------------------\u001b[0m",
      "\u001b[0;31mKeyError\u001b[0m                                  Traceback (most recent call last)",
      "\u001b[0;32m<ipython-input-51-00c6d1ddc94b>\u001b[0m in \u001b[0;36m<module>\u001b[0;34m\u001b[0m\n\u001b[1;32m     15\u001b[0m     \u001b[0;32mreturn\u001b[0m \u001b[0mres\u001b[0m\u001b[0;34m\u001b[0m\u001b[0;34m\u001b[0m\u001b[0m\n\u001b[1;32m     16\u001b[0m \u001b[0mstrings\u001b[0m \u001b[0;34m=\u001b[0m \u001b[0;34m[\u001b[0m\u001b[0;34m\"abde\"\u001b[0m\u001b[0;34m,\u001b[0m \u001b[0;34m\"abc\"\u001b[0m\u001b[0;34m,\u001b[0m \u001b[0;34m\"abd\"\u001b[0m\u001b[0;34m,\u001b[0m \u001b[0;34m\"abcde\"\u001b[0m\u001b[0;34m,\u001b[0m \u001b[0;34m\"ade\"\u001b[0m\u001b[0;34m,\u001b[0m \u001b[0;34m\"ae\"\u001b[0m\u001b[0;34m,\u001b[0m \u001b[0;34m\"labde\"\u001b[0m\u001b[0;34m,\u001b[0m \u001b[0;34m\"abcdef\"\u001b[0m\u001b[0;34m]\u001b[0m\u001b[0;34m\u001b[0m\u001b[0;34m\u001b[0m\u001b[0m\n\u001b[0;32m---> 17\u001b[0;31m \u001b[0msort_arr\u001b[0m\u001b[0;34m(\u001b[0m\u001b[0mstrings\u001b[0m\u001b[0;34m)\u001b[0m\u001b[0;34m\u001b[0m\u001b[0;34m\u001b[0m\u001b[0m\n\u001b[0m",
      "\u001b[0;32m<ipython-input-51-00c6d1ddc94b>\u001b[0m in \u001b[0;36msort_arr\u001b[0;34m(arr)\u001b[0m\n\u001b[1;32m      4\u001b[0m     \u001b[0;32mfor\u001b[0m \u001b[0mitem\u001b[0m \u001b[0;32min\u001b[0m \u001b[0marr\u001b[0m\u001b[0;34m:\u001b[0m\u001b[0;34m\u001b[0m\u001b[0;34m\u001b[0m\u001b[0m\n\u001b[1;32m      5\u001b[0m         \u001b[0ma\u001b[0m \u001b[0;34m=\u001b[0m \u001b[0mlen\u001b[0m\u001b[0;34m(\u001b[0m\u001b[0mitem\u001b[0m\u001b[0;34m)\u001b[0m\u001b[0;34m\u001b[0m\u001b[0;34m\u001b[0m\u001b[0m\n\u001b[0;32m----> 6\u001b[0;31m         \u001b[0;32mif\u001b[0m \u001b[0mresult\u001b[0m\u001b[0;34m[\u001b[0m\u001b[0ma\u001b[0m\u001b[0;34m]\u001b[0m\u001b[0;34m:\u001b[0m\u001b[0;34m\u001b[0m\u001b[0;34m\u001b[0m\u001b[0m\n\u001b[0m\u001b[1;32m      7\u001b[0m             \u001b[0mresult\u001b[0m\u001b[0;34m[\u001b[0m\u001b[0ma\u001b[0m\u001b[0;34m]\u001b[0m\u001b[0;34m.\u001b[0m\u001b[0mappend\u001b[0m\u001b[0;34m(\u001b[0m\u001b[0mitem\u001b[0m\u001b[0;34m)\u001b[0m\u001b[0;34m\u001b[0m\u001b[0;34m\u001b[0m\u001b[0m\n\u001b[1;32m      8\u001b[0m         \u001b[0;32melse\u001b[0m\u001b[0;34m:\u001b[0m\u001b[0;34m\u001b[0m\u001b[0;34m\u001b[0m\u001b[0m\n",
      "\u001b[0;31mKeyError\u001b[0m: 4"
     ]
    }
   ],
   "source": [
    "\n",
    "\n",
    "def sort_arr(arr):\n",
    "    result = {}\n",
    "    res = []\n",
    "    for item in arr:\n",
    "        a = len(item)\n",
    "        if a in result:\n",
    "            result[a].append(item)\n",
    "        else:\n",
    "            result[a] = [item]\n",
    "    print(result)\n",
    "    for key in sorted(result):\n",
    "        res.extend(result[key])\n",
    "        \n",
    "    \n",
    "    return res\n",
    "strings = [\"abde\", \"abc\", \"abd\", \"abcde\", \"ade\", \"ae\", \"labde\", \"abcdef\"]\n",
    "sort_arr(strings)"
   ]
  },
  {
   "cell_type": "code",
   "execution_count": 42,
   "id": "skilled-tsunami",
   "metadata": {},
   "outputs": [
    {
     "data": {
      "text/plain": [
       "{1: ['aaa'], 2: ['aaa']}"
      ]
     },
     "execution_count": 42,
     "metadata": {},
     "output_type": "execute_result"
    }
   ],
   "source": [
    "my_dict = {1: 'aaa'}\n",
    "my_dict[1] = ['aaa']\n",
    "a = 2\n",
    "if a in my_dict:\n",
    "    my_dict[a].append('bbb')\n",
    "else:\n",
    "    my_dict[a] = ['aaa']\n",
    "my_dict"
   ]
  },
  {
   "cell_type": "code",
   "execution_count": null,
   "id": "available-ivory",
   "metadata": {},
   "outputs": [],
   "source": []
  }
 ],
 "metadata": {
  "kernelspec": {
   "display_name": "Python 3",
   "language": "python",
   "name": "python3"
  },
  "language_info": {
   "codemirror_mode": {
    "name": "ipython",
    "version": 3
   },
   "file_extension": ".py",
   "mimetype": "text/x-python",
   "name": "python",
   "nbconvert_exporter": "python",
   "pygments_lexer": "ipython3",
   "version": "3.8.1"
  }
 },
 "nbformat": 4,
 "nbformat_minor": 5
}
