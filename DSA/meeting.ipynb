{
 "cells": [
  {
   "cell_type": "code",
   "execution_count": 41,
   "id": "developed-interest",
   "metadata": {},
   "outputs": [
    {
     "name": "stdout",
     "output_type": "stream",
     "text": [
      "09:00 20:00\n",
      "available time : 09:00 - 10:00\n",
      "available time : 16:30 - 20:00\n"
     ]
    },
    {
     "data": {
      "text/plain": [
       "[['10:00', '11:30'], ['12:00', '14:30'], ['14:30', '16:30']]"
      ]
     },
     "execution_count": 41,
     "metadata": {},
     "output_type": "execute_result"
    }
   ],
   "source": [
    "calendar1 = [\n",
    "    [\"10:00\", \"10:30\"],\n",
    "    [\"12:00\", \"13:00\"],\n",
    "    [\"16:00\", \"16:30\"]\n",
    "  ]\n",
    "dailyBounds1 = [\"09:30\", \"20:00\"]\n",
    "calendar2 = [\n",
    "    [\"10:00\", \"11:30\"],\n",
    "    [\"12:30\", \"14:30\"],\n",
    "    [\"14:30\", \"15:00\"],\n",
    "    [\"16:00\", \"17:00\"]\n",
    "  ]\n",
    "dailyBounds2 = [\"09:00\", \"18:30\"]\n",
    "meetingDuration = 30\n",
    "\n",
    "def calendarMatching(calendar1, dailyBounds1, calendar2, dailyBounds2, meetingDuration):\n",
    "    result = []\n",
    "    for time_stamp1, time_stamp2 in zip(calendar1, calendar2):\n",
    "        start_dt1 = time_stamp1[0]\n",
    "        end_dt1 = time_stamp1[1]\n",
    "        start_dt2 = time_stamp2[0]\n",
    "        end_dt2 = time_stamp2[1]\n",
    "        a = start_dt1 if start_dt1 < start_dt2 else start_dt2\n",
    "        b = end_dt1 if end_dt1 > end_dt2 else end_dt2\n",
    "        result.append([a,b])\n",
    "    start_dt1 = dailyBounds1[0]\n",
    "    end_dt1 = dailyBounds1[1]\n",
    "    start_dt2 = dailyBounds2[0]\n",
    "    end_dt2 = dailyBounds2[1]\n",
    "    a = start_dt1 if start_dt1 < start_dt2 else start_dt2\n",
    "    b = end_dt1 if end_dt1 > end_dt2 else end_dt2\n",
    "    print(a, b)\n",
    "    c = convert_to_min([a, result[0][0]])\n",
    "    d = convert_to_min([result[-1][1], b])\n",
    "    if c > meetingDuration:\n",
    "        print('available time :', a, '-', result[0][0])\n",
    "    if d > meetingDuration:\n",
    "        print('available time :', result[-1][1], '-', b)\n",
    "\n",
    "    \n",
    "    return result\n",
    "\n",
    "\n",
    "def convert_to_min(time):\n",
    "    import datetime as dt\n",
    "    start = time[0]\n",
    "    end = time[1]\n",
    "    start_dt = dt.datetime.strptime(start, '%H:%M')\n",
    "    end_dt = dt.datetime.strptime(end, '%H:%M')\n",
    "    diff = (end_dt - start_dt) \n",
    "    result = diff.seconds/60 \n",
    "    return result\n",
    "\n",
    "calendarMatching(calendar1, dailyBounds1, calendar2, dailyBounds2, meetingDuration)"
   ]
  },
  {
   "cell_type": "code",
   "execution_count": 13,
   "id": "mighty-sense",
   "metadata": {},
   "outputs": [
    {
     "data": {
      "text/plain": [
       "48.0"
      ]
     },
     "execution_count": 13,
     "metadata": {},
     "output_type": "execute_result"
    }
   ],
   "source": [
    "import datetime as dt\n",
    "start=\"09:35\"\n",
    "end=\"10:23\"\n",
    "start_dt = dt.datetime.strptime(start, '%H:%M')\n",
    "end_dt = dt.datetime.strptime(end, '%H:%M')\n",
    "diff = (end_dt - start_dt) \n",
    "diff.seconds/60 "
   ]
  },
  {
   "cell_type": "code",
   "execution_count": null,
   "id": "changing-thompson",
   "metadata": {},
   "outputs": [],
   "source": []
  }
 ],
 "metadata": {
  "kernelspec": {
   "display_name": "Python 3",
   "language": "python",
   "name": "python3"
  },
  "language_info": {
   "codemirror_mode": {
    "name": "ipython",
    "version": 3
   },
   "file_extension": ".py",
   "mimetype": "text/x-python",
   "name": "python",
   "nbconvert_exporter": "python",
   "pygments_lexer": "ipython3",
   "version": "3.8.1"
  }
 },
 "nbformat": 4,
 "nbformat_minor": 5
}
