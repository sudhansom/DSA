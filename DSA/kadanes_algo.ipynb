{
 "cells": [
  {
   "cell_type": "code",
   "execution_count": 70,
   "id": "seven-neighbor",
   "metadata": {},
   "outputs": [
    {
     "data": {
      "text/plain": [
       "19"
      ]
     },
     "execution_count": 70,
     "metadata": {},
     "output_type": "execute_result"
    }
   ],
   "source": [
    "def find_max(array):\n",
    "    max_sum = float('-inf')\n",
    "    arr = [array[0]]\n",
    "    for i in range(1, len(array)):\n",
    "        max_sum = array[i] + arr[-1] if (array[i] + arr[-1]) > array[i] else array[i]\n",
    "        arr.append(max_sum)\n",
    "    \n",
    "    return max(arr)\n",
    "array = [3, 5, -9, 1, 3, -2, 3, 4, 7, 2, -9, 6, 3, 1, -5, 4]\n",
    "find_max(array)"
   ]
  },
  {
   "cell_type": "code",
   "execution_count": 71,
   "id": "limited-standing",
   "metadata": {},
   "outputs": [
    {
     "name": "stdout",
     "output_type": "stream",
     "text": [
      "27\n"
     ]
    }
   ],
   "source": [
    "def fib(n, result = 0):\n",
    "    if n <= 1:\n",
    "        return 1\n",
    "    for i in range(1, 3): \n",
    "        result +=  fib(n - i, result)\n",
    "    return result\n",
    "\n",
    "print(fib(5))"
   ]
  },
  {
   "cell_type": "code",
   "execution_count": 67,
   "id": "guided-whale",
   "metadata": {},
   "outputs": [
    {
     "name": "stdout",
     "output_type": "stream",
     "text": [
      "13\n"
     ]
    }
   ],
   "source": [
    "def fib(n):\n",
    "    if n <= 1:\n",
    "        return 1\n",
    "    return fib(n-1) + fib(n-2)\n",
    "\n",
    "print(fib(6))"
   ]
  },
  {
   "cell_type": "code",
   "execution_count": 68,
   "id": "strategic-mailing",
   "metadata": {},
   "outputs": [
    {
     "name": "stdout",
     "output_type": "stream",
     "text": [
      "[3, 8, -1, 1, 4, 2, 5, 9, 16, 18, 9, 15, 18, 19, 14, 18] [2, 12]\n",
      "[] [2, 12]\n"
     ]
    },
    {
     "data": {
      "text/plain": [
       "19"
      ]
     },
     "execution_count": 68,
     "metadata": {},
     "output_type": "execute_result"
    }
   ],
   "source": [
    "def find_max(array):\n",
    "    max_sum = float('-inf')\n",
    "    arr = [array[0]]\n",
    "    arr_indx = []\n",
    "    j = [0]\n",
    "    for i in range(1, len(array)):\n",
    "        if (array[i] + arr[-1]) > array[i]:\n",
    "            max_sum = array[i] + arr[-1] \n",
    "            j[-1] += 1\n",
    "        else:\n",
    "            max_sum = array[i]\n",
    "            j.append(0)\n",
    "            \n",
    "        arr.append(max_sum)\n",
    "    print(arr, j)\n",
    "    print(arr_indx, j)\n",
    "    return max(arr)\n",
    "array = [3, 5, -9, 1, 3, -2, 3, 4, 7, 2, -9, 6, 3, 1, -5, 4]\n",
    "find_max(array)"
   ]
  },
  {
   "cell_type": "code",
   "execution_count": 69,
   "id": "inside-findings",
   "metadata": {},
   "outputs": [
    {
     "name": "stdout",
     "output_type": "stream",
     "text": [
      "{1: 1, 0: 0, 2: 2}\n",
      "{1: 1, 0: 0, 2: 2, 3: 6}\n",
      "{1: 1, 0: 0, 2: 2, 3: 6, 4: 24}\n",
      "{1: 1, 0: 0, 2: 2, 3: 6, 4: 24, 5: 120}\n",
      "120\n"
     ]
    }
   ],
   "source": [
    "\n",
    "def factorial(n, memo):\n",
    "    if n in memo:\n",
    "        return memo[n]\n",
    "    else:\n",
    "        memo[n] = n * factorial(n-1, memo)\n",
    "    print(memo)\n",
    "    return memo[n]\n",
    "memo = {1:1, 0:0}    \n",
    "print(factorial(5, memo))"
   ]
  },
  {
   "cell_type": "code",
   "execution_count": 72,
   "id": "advanced-inquiry",
   "metadata": {},
   "outputs": [
    {
     "name": "stdout",
     "output_type": "stream",
     "text": [
      "0\n",
      "1\n",
      "2\n",
      "3\n"
     ]
    }
   ],
   "source": [
    "class MyRange:\n",
    "    def __init__(self, n):\n",
    "        self.num = n\n",
    "        \n",
    "\n",
    "for i in MyRange(4):\n",
    "    print(i)"
   ]
  },
  {
   "cell_type": "code",
   "execution_count": 74,
   "id": "sharing-reservoir",
   "metadata": {},
   "outputs": [
    {
     "name": "stdout",
     "output_type": "stream",
     "text": [
      "{1: True, 2: True, 3: True, 44: True, 55: True, 66: True, 77: True}\n"
     ]
    }
   ],
   "source": [
    "numbers = [1, 2, 3, 44, 55, 66, 77]\n",
    "my_dict = {num : True for num in numbers}\n",
    "print(my_dict)"
   ]
  },
  {
   "cell_type": "code",
   "execution_count": 91,
   "id": "characteristic-growing",
   "metadata": {},
   "outputs": [
    {
     "data": {
      "text/plain": [
       "[[1, 2], [3, 8], [9, 10]]"
      ]
     },
     "execution_count": 91,
     "metadata": {},
     "output_type": "execute_result"
    }
   ],
   "source": [
    "def merge_overlapping(intervals):\n",
    "    intervals.sort(key=lambda x : x[0])\n",
    "    result = [intervals[0]]\n",
    "    for i in range(1,len(intervals)):\n",
    "        if result[-1][1] >= intervals[i][0]:\n",
    "            if result[-1][1] <= intervals[i][1]:\n",
    "                result[-1][1] = intervals[i][1]\n",
    "            \n",
    "        else:\n",
    "            result.append(intervals[i])\n",
    "    \n",
    "    return result\n",
    "\n",
    "intervals = [[1, 2],[3, 5],[4, 7],[6, 8],[9, 10]]\n",
    "# intervals = [[-20, 30], [1, 22]]\n",
    "merge_overlapping(intervals)"
   ]
  },
  {
   "cell_type": "code",
   "execution_count": null,
   "id": "buried-peter",
   "metadata": {},
   "outputs": [],
   "source": []
  }
 ],
 "metadata": {
  "kernelspec": {
   "display_name": "Python 3",
   "language": "python",
   "name": "python3"
  },
  "language_info": {
   "codemirror_mode": {
    "name": "ipython",
    "version": 3
   },
   "file_extension": ".py",
   "mimetype": "text/x-python",
   "name": "python",
   "nbconvert_exporter": "python",
   "pygments_lexer": "ipython3",
   "version": "3.8.1"
  }
 },
 "nbformat": 4,
 "nbformat_minor": 5
}
